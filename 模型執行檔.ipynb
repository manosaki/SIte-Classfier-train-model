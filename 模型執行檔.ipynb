{
  "cells": [
    {
      "cell_type": "code",
      "execution_count": 1,
      "metadata": {
        "id": "X36m80cpEF_U",
        "colab": {
          "base_uri": "https://localhost:8080/"
        },
        "outputId": "81915266-9f28-406b-aa97-2fa057a57134"
      },
      "outputs": [
        {
          "output_type": "stream",
          "name": "stdout",
          "text": [
            "Mounted at /drive\n"
          ]
        }
      ],
      "source": [
        "from google.colab import drive\n",
        "drive.mount('/drive')"
      ]
    },
    {
      "cell_type": "markdown",
      "metadata": {
        "id": "su1TL1j8ESuB"
      },
      "source": [
        "# 連接anvil平台"
      ]
    },
    {
      "cell_type": "code",
      "execution_count": 2,
      "metadata": {
        "colab": {
          "base_uri": "https://localhost:8080/",
          "height": 418
        },
        "id": "3MW447oxBU89",
        "outputId": "f3b96981-927d-4ea1-a248-58fe51f40a75"
      },
      "outputs": [
        {
          "output_type": "stream",
          "name": "stdout",
          "text": [
            "Looking in indexes: https://pypi.org/simple, https://us-python.pkg.dev/colab-wheels/public/simple/\n",
            "Collecting anvil-uplink\n",
            "  Downloading anvil_uplink-0.3.42-py2.py3-none-any.whl (64 kB)\n",
            "\u001b[K     |████████████████████████████████| 64 kB 2.7 MB/s \n",
            "\u001b[?25hRequirement already satisfied: six in /usr/local/lib/python3.7/dist-packages (from anvil-uplink) (1.15.0)\n",
            "Collecting ws4py\n",
            "  Downloading ws4py-0.5.1.tar.gz (51 kB)\n",
            "\u001b[K     |████████████████████████████████| 51 kB 256 kB/s \n",
            "\u001b[?25hRequirement already satisfied: future in /usr/local/lib/python3.7/dist-packages (from anvil-uplink) (0.16.0)\n",
            "Collecting argparse\n",
            "  Downloading argparse-1.4.0-py2.py3-none-any.whl (23 kB)\n",
            "Building wheels for collected packages: ws4py\n",
            "  Building wheel for ws4py (setup.py) ... \u001b[?25l\u001b[?25hdone\n",
            "  Created wheel for ws4py: filename=ws4py-0.5.1-py3-none-any.whl size=45229 sha256=075c5a4bced55f5c6a898c0abdf3b6a2817ab2e1fc20b70a67db18be269b0635\n",
            "  Stored in directory: /root/.cache/pip/wheels/29/ea/7d/3410aa0aa0e4402ead9a7a97ab2214804887e0f5c2b76f0c96\n",
            "Successfully built ws4py\n",
            "Installing collected packages: ws4py, argparse, anvil-uplink\n",
            "Successfully installed anvil-uplink-0.3.42 argparse-1.4.0 ws4py-0.5.1\n"
          ]
        },
        {
          "output_type": "display_data",
          "data": {
            "application/vnd.colab-display-data+json": {
              "pip_warning": {
                "packages": [
                  "argparse",
                  "google"
                ]
              }
            }
          },
          "metadata": {}
        }
      ],
      "source": [
        "!pip install anvil-uplink"
      ]
    },
    {
      "cell_type": "code",
      "execution_count": 3,
      "metadata": {
        "colab": {
          "base_uri": "https://localhost:8080/"
        },
        "id": "piE6Z8BF8CiD",
        "outputId": "5c7fe243-04c7-4332-b348-6086c4ad0022"
      },
      "outputs": [
        {
          "output_type": "stream",
          "name": "stdout",
          "text": [
            "Connecting to wss://anvil.works/uplink\n",
            "Anvil websocket open\n",
            "Connected to \"Default environment\" as SERVER\n"
          ]
        }
      ],
      "source": [
        "import anvil.server\n",
        "\n",
        "anvil.server.connect(\"6FDUWXBN3ZZVSOZS3PPVQM6A-B3F7ANVOVBBTZV4X\")"
      ]
    },
    {
      "cell_type": "code",
      "execution_count": 4,
      "metadata": {
        "colab": {
          "base_uri": "https://localhost:8080/"
        },
        "id": "22zFO34I8GE1",
        "outputId": "6dd79172-1436-4c03-90c0-d8193b5eb9c1"
      },
      "outputs": [
        {
          "output_type": "stream",
          "name": "stderr",
          "text": [
            "/usr/local/lib/python3.7/dist-packages/sklearn/base.py:338: UserWarning: Trying to unpickle estimator TfidfTransformer from version 0.22.2.post1 when using version 1.0.2. This might lead to breaking code or invalid results. Use at your own risk. For more info please refer to:\n",
            "https://scikit-learn.org/stable/modules/model_persistence.html#security-maintainability-limitations\n",
            "  UserWarning,\n",
            "/usr/local/lib/python3.7/dist-packages/sklearn/base.py:338: UserWarning: Trying to unpickle estimator TfidfVectorizer from version 0.22.2.post1 when using version 1.0.2. This might lead to breaking code or invalid results. Use at your own risk. For more info please refer to:\n",
            "https://scikit-learn.org/stable/modules/model_persistence.html#security-maintainability-limitations\n",
            "  UserWarning,\n",
            "/usr/local/lib/python3.7/dist-packages/sklearn/base.py:338: UserWarning: Trying to unpickle estimator MultinomialNB from version 0.22.2.post1 when using version 1.0.2. This might lead to breaking code or invalid results. Use at your own risk. For more info please refer to:\n",
            "https://scikit-learn.org/stable/modules/model_persistence.html#security-maintainability-limitations\n",
            "  UserWarning,\n"
          ]
        }
      ],
      "source": [
        "import anvil.media\n",
        "import jieba\n",
        "import pandas as pd\n",
        "import joblib\n",
        "from sklearn.metrics import accuracy_score\n",
        "from sklearn.feature_extraction.text import TfidfVectorizer\n",
        "\n",
        "def split_content(content):\n",
        "  return \" \".join(jieba.cut(content))\n",
        "\n",
        "def process_contents(df):\n",
        "  df['內容'] = df['內容'].apply(split_content)\n",
        "  df['內容'] = df['內容'].str.replace('\\r', '')\n",
        "  df['內容'] = df['內容'].str.replace('\\n', '')\n",
        "  df['標籤'] = df['標籤'].astype('category')\n",
        "  return df\n",
        "\n",
        "#開啟模型檔和詞彙檔\n",
        "'''\n",
        "#風格\n",
        "style_vec = joblib.load(\"/drive/My Drive/Colab Notebooks/vec_clf.pkl\")\n",
        "style_clf = joblib.load(\"/drive/My Drive/Colab Notebooks/clf.pkl\")\n",
        "\n",
        "#機能\n",
        "func_vec = joblib.load(\"/drive/My Drive/Colab Notebooks/vec_clf.pkl\")\n",
        "func_clf = joblib.load(\"/drive/My Drive/Colab Notebooks/clf.pkl\")\n",
        "'''\n",
        "#基地\n",
        "site_vec = joblib.load(\"/drive/My Drive/Colab Notebooks/vec_site.pkl\")\n",
        "site_clf = joblib.load(\"/drive/My Drive/Colab Notebooks/site.pkl\")\n",
        "'''\n",
        "@anvil.server.callable\n",
        "def classify_style_text(file):\n",
        "    with anvil.media.TempFile(file) as f:      \n",
        "      test_df = pd.read_csv(f, encoding = \"utf-8\")\n",
        "      test_df = process_contents(test_df)\n",
        "      test_df['內容']\n",
        "\n",
        "      test_bag = style_vec.transform(test_df['內容'])\n",
        "      predict = style_clf.predict(test_bag)\n",
        "      #print(list(predict))\n",
        "\n",
        "    style = list(predict)\n",
        "\n",
        "    return style\n",
        "\n",
        "@anvil.server.callable\n",
        "def classify_functions_text(file):\n",
        "    with anvil.media.TempFile(file) as f:      \n",
        "      test_df = pd.read_csv(f, encoding = \"utf-8\")\n",
        "      test_df = process_contents(test_df)\n",
        "      test_df['內容']\n",
        "\n",
        "      test_bag = func_vec.transform(test_df['內容'])\n",
        "      predict = func_clf.predict(test_bag)\n",
        "      #print(list(predict))\n",
        "\n",
        "    functions = list(predict)\n",
        "\n",
        "    return functions\n",
        "'''\n",
        "@anvil.server.callable\n",
        "def classify_site_text(file):\n",
        "    with anvil.media.TempFile(file) as f:      \n",
        "      test_df = pd.read_csv(f, encoding = \"utf-8\")\n",
        "      test_df = process_contents(test_df)\n",
        "      test_df['內容']\n",
        "\n",
        "      test_bag = site_vec.transform(test_df['內容'])\n",
        "      predict = site_clf.predict(test_bag)\n",
        "      #print(list(predict))\n",
        "\n",
        "    site = list(predict)\n",
        "\n",
        "    return site"
      ]
    },
    {
      "cell_type": "markdown",
      "metadata": {
        "id": "9onLkSsEIJfC"
      },
      "source": [
        "# colab永遠掛載"
      ]
    },
    {
      "cell_type": "code",
      "execution_count": null,
      "metadata": {
        "colab": {
          "background_save": true
        },
        "id": "UrmPoH5VIPzZ"
      },
      "outputs": [],
      "source": [
        "anvil.server.wait_forever()"
      ]
    }
  ],
  "metadata": {
    "colab": {
      "name": "模型執行檔.ipynb",
      "provenance": []
    },
    "kernelspec": {
      "display_name": "Python 3",
      "name": "python3"
    },
    "language_info": {
      "name": "python"
    }
  },
  "nbformat": 4,
  "nbformat_minor": 0
}